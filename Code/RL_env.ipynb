{
 "cells": [
  {
   "cell_type": "code",
   "execution_count": 1,
   "metadata": {},
   "outputs": [],
   "source": [
    "import numpy as np\n",
    "\n",
    "class PriceModel():\n",
    "    '''\n",
    "    Note:This is a stateless class, gathering price evolution models in one place\n",
    "    '''\n",
    "    def price_model_1(current_price, current_action, tau, vol_matrix, perm_impact_matrix, random_vector):\n",
    "        return current_price + np.sqrt(tau) * (vol_matrix@random_vector) - perm_impact_matrix @ current_action\n",
    "    def price_model_2(current_price, current_action, tau, vol_matrix, perm_impact_matrix, random_vector):\n",
    "        return current_price*np.exp(np.sqrt(tau) * (vol_matrix @ random_vector)) -\\\n",
    "                perm_impact_matrix @ current_action"
   ]
  },
  {
   "cell_type": "code",
   "execution_count": 2,
   "metadata": {},
   "outputs": [],
   "source": [
    "import gym\n",
    "from gym import spaces\n",
    "import pandas as pd\n",
    "\n",
    "\n",
    "class LiquidationEnv(gym.Env):\n",
    "    metadata = {'render.modes': ['human']}\n",
    "    \n",
    "    def __init__(self, \n",
    "                 n_assets=1, \n",
    "                 initial_shares=250,\n",
    "                 total_inventory = 300, \n",
    "                 initial_prices= 60, \n",
    "                 max_steps = 5,\n",
    "                 price_model = PriceModel,\n",
    "                 price_generator = PriceModel.price_model_1,\n",
    "                 tau = 1,\n",
    "                 temp_price_matrix = np.identity(1)*0.1,\n",
    "                 vol_matrix = np.identity(1)*.4,\n",
    "                 perm_impact_matrix = np.identity(1)*0.05,\n",
    "                 # for capital ratio constraint\n",
    "                 theta_min = 0.0625,\n",
    "                 risk_weights = 8,\n",
    "                 liability = 10000,\n",
    "                 # lagrangian dual\n",
    "                 lambda_value = 0.1                ):\n",
    "        super(LiquidationEnv, self).__init__()\n",
    "        \n",
    "        # Environment parameters\n",
    "        self.n_assets = n_assets\n",
    "        self.initial_shares = np.full(n_assets, initial_shares, dtype=np.float32)\n",
    "        self.total_inventory = np.full(n_assets, total_inventory, dtype=np.float32)\n",
    "        self.initial_prices = np.full(n_assets, initial_prices, dtype=np.float32)\n",
    "        self.max_steps = max_steps\n",
    "        self.price_generator = price_generator\n",
    "        self.temp_price_matrix = temp_price_matrix\n",
    "        self.tau = tau\n",
    "        self.vol_matrix = vol_matrix\n",
    "        self.perm_impact_matrix = perm_impact_matrix\n",
    "        # for capital ratio constriant\n",
    "\n",
    "        self.theta_min = theta_min\n",
    "        self.risk_weights = risk_weights\n",
    "        self.liability = liability\n",
    "\n",
    "        # dual variable\n",
    "        self.lambda_value = lambda_value\n",
    "        \n",
    "        # Define action and observation spaces\n",
    "        self.action_space = spaces.Box(\n",
    "            low=0,\n",
    "            high= 1,\n",
    "            shape=(n_assets,),\n",
    "            dtype=np.float32\n",
    "        )\n",
    "        \n",
    "        self.observation_space = spaces.Dict({\n",
    "            \"prices\": spaces.Box(low = -np.inf, high=np.inf, shape=(n_assets,), dtype=np.float32),\n",
    "            \"remaining\": spaces.Box(low = 0, high=1, shape=(n_assets,), dtype=np.float32),\n",
    "            \"acc_revenue\": spaces.Box(low = -np.inf, high=np.inf, shape=(1,), dtype=np.float32)\n",
    "        })\n",
    "        \n",
    "        # Initialize state\n",
    "        self.state = None\n",
    "        self.current_step = 0\n",
    "        self.reset()\n",
    "\n",
    "    def _get_obs(self):\n",
    "        return {\n",
    "            \"prices\": self.state['prices'].copy().astype(np.float32)/self.initial_prices,\n",
    "            \"remaining\": self.state['remaining'].copy().astype(np.float32)/self.initial_shares,\n",
    "            \"acc_revenue\": np.array([self.state['acc_revenue']], dtype=np.float32)/(np.dot(self.initial_prices, self.initial_shares))\n",
    "        }\n",
    "\n",
    "    def _next_price(self, current_price , current_action, tau, vol_matrix, perm_impact_matrix, random_vector):\n",
    "        # actual_action = self.state['remaining'] * current_action\n",
    "        return self.price_generator(current_price, current_action, tau, vol_matrix, perm_impact_matrix, random_vector)\n",
    "\n",
    "    def reset(self):\n",
    "        # Reset initial prices (customize with your price initialization)\n",
    "        self.state = {\n",
    "            'prices': self.initial_prices.copy()/self.initial_prices,\n",
    "            'remaining': self.initial_shares.copy()/self.initial_shares,\n",
    "            'acc_revenue': 0.0\n",
    "        }\n",
    "        self.current_step = 0\n",
    "        return self._get_obs()\n",
    "    \n",
    "    def _get_reward(self, state, action, temp_price_matrix):\n",
    "        '''\n",
    "        The function to calculate the reward\n",
    "        '''\n",
    "        # actual_action = action * state['remaining']\n",
    "        reward = action.dot(state['prices']*self.initial_prices - temp_price_matrix.dot(action))/(np.dot(self.initial_prices, self.initial_shares))\n",
    "        return reward\n",
    "    \n",
    "    def _check_safety_violation(self):\n",
    "        # Calculate the revenue term.\n",
    "        revenue_term = self.state['acc_revenue'] * np.dot(self.initial_prices, self.initial_shares)\n",
    "        \n",
    "        # Adjust inventory based on remaining shares and total inventory.\n",
    "        adjusted_inventory = self.state['remaining'] * self.initial_shares + self.total_inventory - self.initial_shares\n",
    "        # Construct the risk adjustment matrix.\n",
    "        risk_adjustment = np.diag(np.ones(self.n_assets) - self.theta_min * self.risk_weights)\n",
    "        # Calculate the price term.\n",
    "        price_term = np.dot(self.state['prices'] * self.initial_prices,\n",
    "                            risk_adjustment @ adjusted_inventory)\n",
    "        \n",
    "        # Compute the overall value.\n",
    "        value = revenue_term + price_term - self.liability\n",
    "        return value >= 0\n",
    "\n",
    "    def step(self, action):\n",
    "        if self.current_step < self.max_steps:\n",
    "            # Take action normally until max_steps is reached\n",
    "            if self.current_step == self.max_steps - 1:\n",
    "                actual_action = self.state['remaining'] * self.initial_shares\n",
    "            else:\n",
    "                actual_action = np.minimum(self.state['remaining'] * self.initial_shares, action * self.initial_shares)\n",
    "\n",
    "            reward = self._get_reward(self.state, actual_action, self.temp_price_matrix)\n",
    "\n",
    "            # Check if the current state is safe.\n",
    "            if self.current_step == 0:\n",
    "                is_safe = True\n",
    "            else:\n",
    "                is_safe = self._check_safety_violation()  \n",
    "\n",
    "            # Incorporate the Lagrangian multiplier as a bonus if safe.\n",
    "            if self.current_step > 0:\n",
    "                reward += self.lambda_value if is_safe else 0\n",
    "\n",
    "            # Calculate revenue from current prices\n",
    "            step_revenue = np.sum(actual_action * (self.state['prices'] * self.initial_prices - self.temp_price_matrix.dot(actual_action))) \n",
    "            self.state['acc_revenue'] = self.state['acc_revenue'] + step_revenue / (np.dot(self.initial_prices, self.initial_shares))\n",
    "            self.state['remaining'] = (self.state['remaining'] * self.initial_shares - actual_action) / self.initial_shares\n",
    "\n",
    "            random_vector = np.random.normal(size=self.n_assets)\n",
    "            self.state['prices'] = self._next_price(self.state['prices'] * self.initial_prices, \n",
    "                                                    actual_action, self.tau, \n",
    "                                                    self.vol_matrix, self.perm_impact_matrix, \n",
    "                                                    random_vector) / self.initial_prices\n",
    "            \n",
    "            # Move to next step\n",
    "            self.current_step += 1\n",
    "\n",
    "            done = False  # Still taking actions until max_steps is reached\n",
    "\n",
    "        else:\n",
    "            reward = 0  # No reward since no action is taken\n",
    "            is_safe = self._check_safety_violation()\n",
    "            #print(f\"Final step check (step {self.current_step}): is_safe={is_safe}\")\n",
    "            done = True  # Terminate after step 5\n",
    "        #print(is_safe)\n",
    "        return self._get_obs(), reward, done, {'is_safe': is_safe}\n",
    "\n",
    "\n",
    "    def render(self, mode='human'):\n",
    "        print(f\"Step: {self.current_step}\")\n",
    "        print(f\"Prices: {self.state['prices']}\")\n",
    "        print(f\"Remaining: {self.state['remaining']}\")\n",
    "        print(f\"Accumulated Revenue: {self.state['acc_revenue']:.2f}\\n\")\n",
    "\n",
    "        \n",
    "    def close(self):\n",
    "        pass"
   ]
  },
  {
   "cell_type": "code",
   "execution_count": 3,
   "metadata": {},
   "outputs": [
    {
     "name": "stderr",
     "output_type": "stream",
     "text": [
      "/home/ruijing/ruijing/liquidation_RL/rl_env/lib/python3.9/site-packages/stable_baselines3/common/env_checker.py:361: UserWarning: We recommend you to use a symmetric and normalized Box action space (range=[-1, 1]) cf https://stable-baselines3.readthedocs.io/en/master/guide/rl_tips.html\n",
      "  warnings.warn(\n"
     ]
    }
   ],
   "source": [
    "from stable_baselines3 import PPO\n",
    "from stable_baselines3.common.env_checker import check_env\n",
    "from stable_baselines3.common.callbacks import EvalCallback\n",
    "env = LiquidationEnv(n_assets=1, initial_shares=250, price_generator = PriceModel.price_model_1, liability= 10000)\n",
    "check_env(env)\n"
   ]
  },
  {
   "cell_type": "code",
   "execution_count": 4,
   "metadata": {},
   "outputs": [
    {
     "name": "stdout",
     "output_type": "stream",
     "text": [
      "Step: 0\n",
      "Prices: [1.]\n",
      "Remaining: [1.]\n",
      "Accumulated Revenue: 0.00\n",
      "\n"
     ]
    }
   ],
   "source": [
    "env.reset()\n",
    "env.render()"
   ]
  },
  {
   "cell_type": "code",
   "execution_count": 5,
   "metadata": {},
   "outputs": [
    {
     "name": "stdout",
     "output_type": "stream",
     "text": [
      "Step: 1\n",
      "Prices: [0.93150716]\n",
      "Remaining: [0.7]\n",
      "Accumulated Revenue: 0.26\n",
      "\n"
     ]
    }
   ],
   "source": [
    "action = np.ones(1)*0.3\n",
    "\n",
    "env.step(action)\n",
    "\n",
    "env.render()"
   ]
  },
  {
   "cell_type": "code",
   "execution_count": 38,
   "metadata": {},
   "outputs": [
    {
     "data": {
      "application/vnd.jupyter.widget-view+json": {
       "model_id": "8840b2f2460e47e38cac63cca0de4903",
       "version_major": 2,
       "version_minor": 0
      },
      "text/plain": [
       "Output()"
      ]
     },
     "metadata": {},
     "output_type": "display_data"
    },
    {
     "data": {
      "text/html": [
       "<pre style=\"white-space:pre;overflow-x:auto;line-height:normal;font-family:Menlo,'DejaVu Sans Mono',consolas,'Courier New',monospace\">/home/ruijing/ruijing/liquidation_RL/rl_env/lib/python3.9/site-packages/stable_baselines3/common/evaluation.py:67: \n",
       "UserWarning: Evaluation environment is not wrapped with a ``Monitor`` wrapper. This may result in reporting \n",
       "modified episode lengths and rewards, if other wrappers happen to modify these. Consider wrapping environment first\n",
       "with ``Monitor`` wrapper.\n",
       "  warnings.warn(\n",
       "</pre>\n"
      ],
      "text/plain": [
       "/home/ruijing/ruijing/liquidation_RL/rl_env/lib/python3.9/site-packages/stable_baselines3/common/evaluation.py:67: \n",
       "UserWarning: Evaluation environment is not wrapped with a ``Monitor`` wrapper. This may result in reporting \n",
       "modified episode lengths and rewards, if other wrappers happen to modify these. Consider wrapping environment first\n",
       "with ``Monitor`` wrapper.\n",
       "  warnings.warn(\n"
      ]
     },
     "metadata": {},
     "output_type": "display_data"
    },
    {
     "data": {
      "text/html": [
       "<pre style=\"white-space:pre;overflow-x:auto;line-height:normal;font-family:Menlo,'DejaVu Sans Mono',consolas,'Courier New',monospace\"></pre>\n"
      ],
      "text/plain": []
     },
     "metadata": {},
     "output_type": "display_data"
    },
    {
     "data": {
      "text/plain": [
       "<stable_baselines3.ppo.ppo.PPO at 0x76a522e80760>"
      ]
     },
     "execution_count": 38,
     "metadata": {},
     "output_type": "execute_result"
    }
   ],
   "source": [
    "from stable_baselines3 import PPO\n",
    "from stable_baselines3.common.env_checker import check_env\n",
    "from stable_baselines3.common.callbacks import EvalCallback\n",
    "\n",
    "\n",
    "env = LiquidationEnv(n_assets=1, initial_shares = 250)\n",
    "env_eval = LiquidationEnv(n_assets=1, initial_shares=250)\n",
    "eval_callback = EvalCallback(env_eval, \n",
    "                            best_model_save_path=f\"../log/model/test/\",\n",
    "                            eval_freq=100,\n",
    "                            deterministic=True, \n",
    "                            render=False,\n",
    "                            verbose=0)\n",
    "model = PPO(\"MultiInputPolicy\", env, gamma=0.9999999, tensorboard_log=\"../log/tensorboard_test/\", verbose=0)\n",
    "model.learn(int(8e5), progress_bar=True, callback=eval_callback)"
   ]
  },
  {
   "cell_type": "code",
   "execution_count": 9,
   "metadata": {},
   "outputs": [],
   "source": [
    "import numpy as np\n",
    "\n",
    "def evaluate_policy(model, env, num_episodes=1000):\n",
    "    \"\"\"\n",
    "    Evaluates the policy using `env._get_reward` instead of the step function's reward.\n",
    "    \n",
    "    Parameters:\n",
    "        model: The trained RL model.\n",
    "        env: The evaluation environment.\n",
    "        num_episodes: Number of episodes to run.\n",
    "    \n",
    "    Returns:\n",
    "        safety_ratio: Fraction of episodes that were entirely safe.\n",
    "        avg_reward: Average episode reward computed using `env._get_reward`.\n",
    "    \"\"\"\n",
    "    safe_episodes = 0\n",
    "    total_rewards = []\n",
    "\n",
    "    for _ in range(num_episodes):\n",
    "        obs = env.reset()\n",
    "        done = False\n",
    "        episode_reward = 0\n",
    "        is_episode_safe = True  # Assume safe until proven otherwise\n",
    "\n",
    "        while not done:\n",
    "            action, _ = model.predict(obs, deterministic=True)  # Use policy to get action\n",
    "            \n",
    "            # Get reward using `_get_reward` instead of the reward from `env.step`\n",
    "            reward = env._get_reward(env.state, action, env.temp_price_matrix)\n",
    "            \n",
    "            # Execute action in the environment\n",
    "            obs, _, done, info = env.step(action)  # Ignore the default reward\n",
    "            \n",
    "            episode_reward += reward  # Accumulate manually computed reward\n",
    "\n",
    "            # Check if the episode remains safe\n",
    "            if 'is_safe' in info:\n",
    "                if not info['is_safe']:\n",
    "                    is_episode_safe = False  # If any step is unsafe, mark episode unsafe\n",
    "\n",
    "        # Track safety only if the entire episode was safe\n",
    "        if is_episode_safe:\n",
    "            safe_episodes += 1\n",
    "        total_rewards.append(episode_reward)\n",
    "\n",
    "    # Calculate metrics\n",
    "    safety_ratio = safe_episodes / num_episodes\n",
    "    avg_reward = np.mean(total_rewards)\n",
    "\n",
    "    return safety_ratio, avg_reward\n"
   ]
  },
  {
   "cell_type": "code",
   "execution_count": 7,
   "metadata": {},
   "outputs": [],
   "source": [
    "from stable_baselines3 import PPO\n",
    "\n",
    "# Load the best model from EvalCallback's auto-saved checkpoints\n",
    "best_model = PPO.load(\"../log/model/test/best_model.zip\")"
   ]
  },
  {
   "cell_type": "code",
   "execution_count": 10,
   "metadata": {},
   "outputs": [],
   "source": [
    "ratio, reward = evaluate_policy(best_model, env, num_episodes=1000)"
   ]
  },
  {
   "cell_type": "code",
   "execution_count": 12,
   "metadata": {},
   "outputs": [
    {
     "data": {
      "text/plain": [
       "np.float64(59.88719998291553)"
      ]
     },
     "execution_count": 12,
     "metadata": {},
     "output_type": "execute_result"
    }
   ],
   "source": [
    "reward*250*60"
   ]
  },
  {
   "cell_type": "code",
   "execution_count": null,
   "metadata": {},
   "outputs": [],
   "source": []
  },
  {
   "cell_type": "markdown",
   "metadata": {},
   "source": [
    "### updating dual"
   ]
  },
  {
   "cell_type": "code",
   "execution_count": 11,
   "metadata": {},
   "outputs": [
    {
     "name": "stdout",
     "output_type": "stream",
     "text": [
      "Iteration 1: Training RL model with λ = 0.1000\n"
     ]
    },
    {
     "data": {
      "application/vnd.jupyter.widget-view+json": {
       "model_id": "4fde4570c8f4411fa8f83d6f2fa90f28",
       "version_major": 2,
       "version_minor": 0
      },
      "text/plain": [
       "Output()"
      ]
     },
     "metadata": {},
     "output_type": "display_data"
    },
    {
     "data": {
      "text/html": [
       "<pre style=\"white-space:pre;overflow-x:auto;line-height:normal;font-family:Menlo,'DejaVu Sans Mono',consolas,'Courier New',monospace\">/home/ruijing/ruijing/liquidation_RL/rl_env/lib/python3.9/site-packages/stable_baselines3/common/evaluation.py:67: \n",
       "UserWarning: Evaluation environment is not wrapped with a ``Monitor`` wrapper. This may result in reporting \n",
       "modified episode lengths and rewards, if other wrappers happen to modify these. Consider wrapping environment first\n",
       "with ``Monitor`` wrapper.\n",
       "  warnings.warn(\n",
       "</pre>\n"
      ],
      "text/plain": [
       "/home/ruijing/ruijing/liquidation_RL/rl_env/lib/python3.9/site-packages/stable_baselines3/common/evaluation.py:67: \n",
       "UserWarning: Evaluation environment is not wrapped with a ``Monitor`` wrapper. This may result in reporting \n",
       "modified episode lengths and rewards, if other wrappers happen to modify these. Consider wrapping environment first\n",
       "with ``Monitor`` wrapper.\n",
       "  warnings.warn(\n"
      ]
     },
     "metadata": {},
     "output_type": "display_data"
    },
    {
     "data": {
      "text/html": [
       "<pre style=\"white-space:pre;overflow-x:auto;line-height:normal;font-family:Menlo,'DejaVu Sans Mono',consolas,'Courier New',monospace\"></pre>\n"
      ],
      "text/plain": []
     },
     "metadata": {},
     "output_type": "display_data"
    },
    {
     "name": "stdout",
     "output_type": "stream",
     "text": [
      "Safety ratio: 0.9790, Avg Reward: 1.2303\n",
      "Updated λ: 0.0982\n",
      "Satisfying constraint; Stopping updates.\n"
     ]
    }
   ],
   "source": [
    "import numpy as np\n",
    "from stable_baselines3 import PPO\n",
    "from stable_baselines3.common.callbacks import EvalCallback\n",
    "\n",
    "# Hyperparameters\n",
    "num_iterations = 10  # Number of iterations to update lambda\n",
    "eta_lambda = 0.01  # Step size for dual variable update\n",
    "delta = 0.2  # Safety threshold\n",
    "lambda_value =  0.1 # Initial lambda value\n",
    "tolerance = 0.8  # Convergence criteria for lambda\n",
    "\n",
    "# Initialize environment and model\n",
    "env = LiquidationEnv(n_assets=1, initial_shares=250, lambda_value=lambda_value, liability= 10000)\n",
    "env_eval = LiquidationEnv(n_assets=1, initial_shares=250, lambda_value=lambda_value, liability= 10000)\n",
    "eval_callback = EvalCallback(env_eval, \n",
    "                             best_model_save_path=\"../log/model/test/\",\n",
    "                             eval_freq=100,\n",
    "                             deterministic=True, \n",
    "                             render=False,\n",
    "                             verbose=0)\n",
    "\n",
    "# Iterate over lambda updates\n",
    "for iteration in range(num_iterations):\n",
    "    print(f\"Iteration {iteration + 1}: Training RL model with λ = {lambda_value:.4f}\")\n",
    "\n",
    "    # Train PPO with current lambda\n",
    "    model = PPO(\"MultiInputPolicy\", env, gamma=0.9999999, tensorboard_log=\"../log/tensorboard_test/\", verbose=0)\n",
    "    model.learn(int(8e5), progress_bar=True, callback=eval_callback)\n",
    "\n",
    "    # Evaluate safety\n",
    "    best_model = PPO.load(\"../log/model/test/best_model.zip\")\n",
    "    safety_ratio, avg_reward = evaluate_policy(best_model, env_eval, num_episodes=1000)\n",
    "    print(f\"Safety ratio: {safety_ratio:.4f}, Avg Reward: {avg_reward:.4f}\")\n",
    "\n",
    "    # Update lambda using dual gradient update\n",
    "    new_lambda = max(lambda_value - eta_lambda * (safety_ratio - (1 - delta)), 0)\n",
    "\n",
    "    print(f\"Updated λ: {new_lambda:.4f}\")\n",
    "\n",
    "    # Convergence check\n",
    "    if safety_ratio > 1- delta:\n",
    "        print(\"Satisfying constraint; Stopping updates.\")\n",
    "        break\n",
    "    \n",
    "    lambda_value = new_lambda  # Update lambda for next iteration\n",
    "\n",
    "    # Update environments with new lambda\n",
    "    env.lambda_value = lambda_value\n",
    "    env_eval.lambda_value = lambda_value\n"
   ]
  },
  {
   "cell_type": "code",
   "execution_count": 16,
   "metadata": {},
   "outputs": [],
   "source": [
    "# Hyperparameters\n",
    "num_iterations = 10  # Number of iterations to update lambda\n",
    "eta_lambda = 0.01  # Step size for dual variable update\n",
    "delta = 0.2  # Safety threshold\n",
    "lambda_value =  0.1 # Initial lambda value\n",
    "tolerance = 0.8  # Convergence criteria for lambda\n",
    "env = LiquidationEnv(n_assets=1, initial_shares=250, lambda_value=lambda_value, liability= 10000)\n",
    "env_eval = LiquidationEnv(n_assets=1, initial_shares=250, lambda_value=lambda_value, liability= 10000)\n",
    "eval_callback = EvalCallback(env_eval, \n",
    "                             best_model_save_path=\"../log/model/test/\",\n",
    "                             eval_freq=100,\n",
    "                             deterministic=True, \n",
    "                             render=False,\n",
    "                             verbose=0)"
   ]
  },
  {
   "cell_type": "code",
   "execution_count": 17,
   "metadata": {},
   "outputs": [],
   "source": [
    "import numpy as np\n",
    "import matplotlib.pyplot as plt\n",
    "\n",
    "def evaluate_average_policy(model, env, num_trajectories=1000):\n",
    "    \"\"\"\n",
    "    Evaluates the trained policy over multiple trajectories and computes \n",
    "    the average action taken at each step.\n",
    "    \n",
    "    Parameters:\n",
    "        model: Trained RL policy (PPO model).\n",
    "        env: Environment for evaluation.\n",
    "        num_trajectories: Number of trajectories to sample.\n",
    "    \n",
    "    Returns:\n",
    "        avg_actions: Average action per step across all trajectories.\n",
    "    \"\"\"\n",
    "    num_steps = 5  # We consider 5 steps (0,1,2,3 for actions, 4 for adjusted action)\n",
    "    actions_all = np.zeros((num_trajectories, num_steps))  # Store actions for averaging\n",
    "\n",
    "    for traj in range(num_trajectories):\n",
    "        obs = env.reset()\n",
    "        done = False\n",
    "        step_count = 0\n",
    "        actions_taken = []\n",
    "\n",
    "        while not done and step_count < 5:  # Limit to 5 steps\n",
    "            action, _ = model.predict(obs, deterministic=True)\n",
    "\n",
    "            # Ensure action is scalar\n",
    "            if isinstance(action, (np.ndarray, list)):\n",
    "                action = action.item()\n",
    "\n",
    "            obs, reward, done, info = env.step(action)\n",
    "\n",
    "            if step_count < 4:\n",
    "                actions_taken.append(action)\n",
    "            elif step_count == 4:\n",
    "                # Compute final interpreted action\n",
    "                correct_action_4 = 1 - np.sum(actions_taken)\n",
    "                correct_action_4 = np.clip(correct_action_4, 0, 1)\n",
    "                actions_taken.append(correct_action_4)\n",
    "\n",
    "            step_count += 1\n",
    "\n",
    "        # Store trajectory actions (truncate in case of early termination)\n",
    "        actions_all[traj, :len(actions_taken)] = actions_taken\n",
    "\n",
    "    # Compute the average action for each step\n",
    "    avg_actions = np.mean(actions_all, axis=0)\n",
    "    \n",
    "    return avg_actions\n",
    "\n"
   ]
  },
  {
   "cell_type": "code",
   "execution_count": 18,
   "metadata": {},
   "outputs": [
    {
     "data": {
      "image/png": "[encoded data removed]",
      "text/plain": [
       "<Figure size 800x500 with 1 Axes>"
      ]
     },
     "metadata": {},
     "output_type": "display_data"
    }
   ],
   "source": [
    "# Load the trained model\n",
    "best_model = PPO.load(\"../log/model/test/best_model.zip\")\n",
    "\n",
    "# Evaluate the policy over 1000 trajectories\n",
    "avg_actions = evaluate_average_policy(best_model, env_eval, num_trajectories=1000)\n",
    "\n",
    "# Plot the average actions over steps\n",
    "plt.figure(figsize=(8, 5))\n",
    "plt.plot(range(len(avg_actions)), avg_actions, marker=\"o\", linestyle=\"-\", label=\"Average Actions\")\n",
    "plt.xlabel(\"Step\")\n",
    "plt.ylabel(\"Average Action\")\n",
    "plt.title(\"Average Actions Over 1000 Trajectories\")\n",
    "plt.legend()\n",
    "plt.grid()\n",
    "plt.show()\n"
   ]
  },
  {
   "cell_type": "code",
   "execution_count": null,
   "metadata": {},
   "outputs": [],
   "source": []
  },
  {
   "cell_type": "code",
   "execution_count": 33,
   "metadata": {},
   "outputs": [
    {
     "data": {
      "application/vnd.jupyter.widget-view+json": {
       "model_id": "7997b2df21e84d34839b81e8252e7a5b",
       "version_major": 2,
       "version_minor": 0
      },
      "text/plain": [
       "Output()"
      ]
     },
     "metadata": {},
     "output_type": "display_data"
    },
    {
     "name": "stdout",
     "output_type": "stream",
     "text": [
      "Iteration 1: Training RL model with λ = 0.1000\n"
     ]
    },
    {
     "data": {
      "text/html": [
       "<pre style=\"white-space:pre;overflow-x:auto;line-height:normal;font-family:Menlo,'DejaVu Sans Mono',consolas,'Courier New',monospace\"></pre>\n"
      ],
      "text/plain": []
     },
     "metadata": {},
     "output_type": "display_data"
    },
    {
     "name": "stdout",
     "output_type": "stream",
     "text": [
      "Safety ratio: 0.9300, Avg Reward: 1.1786\n",
      "Updated λ: 0.0987\n",
      "Satisfying constraint; Stopping updates.\n"
     ]
    }
   ],
   "source": [
    "import os\n",
    "import numpy as np\n",
    "from stable_baselines3 import PPO\n",
    "from stable_baselines3.common.callbacks import EvalCallback\n",
    "\n",
    "# Hyperparameters\n",
    "num_iterations = 10  # Number of iterations to update lambda\n",
    "eta_lambda = 0.01  # Step size for dual variable update\n",
    "delta = 0.2  # Safety threshold\n",
    "lambda_value = 0.1  # Initial lambda value\n",
    "tolerance = 0.8  # Convergence criteria for lambda\n",
    "liability_value = 10500  # New liability value\n",
    "\n",
    "# Define save paths dynamically based on liability value\n",
    "model_save_path = f\"../log/model/liability_{liability_value}/\"\n",
    "tensorboard_log_path = f\"../log/tensorboard_liability_{liability_value}/\"\n",
    "\n",
    "# Ensure directories exist\n",
    "os.makedirs(model_save_path, exist_ok=True)\n",
    "os.makedirs(tensorboard_log_path, exist_ok=True)\n",
    "\n",
    "# Initialize environment with the updated liability value\n",
    "env = LiquidationEnv(n_assets=1, initial_shares=250, lambda_value=lambda_value, liability=liability_value)\n",
    "env_eval = LiquidationEnv(n_assets=1, initial_shares=250, lambda_value=lambda_value, liability=liability_value)\n",
    "\n",
    "eval_callback = EvalCallback(env_eval, \n",
    "                             best_model_save_path=model_save_path,\n",
    "                             eval_freq=100,\n",
    "                             deterministic=True, \n",
    "                             render=False,\n",
    "                             verbose=0)\n",
    "\n",
    "# Iterate over lambda updates\n",
    "for iteration in range(num_iterations):\n",
    "    print(f\"Iteration {iteration + 1}: Training RL model with λ = {lambda_value:.4f}\")\n",
    "\n",
    "    # Train PPO with current lambda\n",
    "    model = PPO(\"MultiInputPolicy\", env, gamma=0.9999999, tensorboard_log=tensorboard_log_path, verbose=0)\n",
    "    model.learn(int(8e5), progress_bar=True, callback=eval_callback)\n",
    "\n",
    "    # Evaluate safety\n",
    "    best_model = PPO.load(os.path.join(model_save_path, \"best_model.zip\"))\n",
    "    safety_ratio, avg_reward = evaluate_policy(best_model, env_eval, num_episodes=1000)\n",
    "    print(f\"Safety ratio: {safety_ratio:.4f}, Avg Reward: {avg_reward:.4f}\")\n",
    "\n",
    "    # Update lambda using dual gradient update\n",
    "    new_lambda = max(lambda_value - eta_lambda * (safety_ratio - (1 - delta)), 0)\n",
    "    print(f\"Updated λ: {new_lambda:.4f}\")\n",
    "\n",
    "    # Convergence check\n",
    "    if safety_ratio > 1 - delta:\n",
    "        print(\"Satisfying constraint; Stopping updates.\")\n",
    "        break\n",
    "    \n",
    "    lambda_value = new_lambda  # Update lambda for next iteration\n",
    "\n",
    "    # Update environments with new lambda\n",
    "    env.lambda_value = lambda_value\n",
    "    env_eval.lambda_value = lambda_value\n"
   ]
  },
  {
   "cell_type": "code",
   "execution_count": 35,
   "metadata": {},
   "outputs": [
    {
     "data": {
      "image/png": "[encoded data removed]",
      "text/plain": [
       "<Figure size 800x500 with 1 Axes>"
      ]
     },
     "metadata": {},
     "output_type": "display_data"
    }
   ],
   "source": [
    "# Load the trained model\n",
    "best_model = PPO.load(\"../log/model/liability_10500/best_model.zip\")\n",
    "\n",
    "# Evaluate the policy over 1000 trajectories\n",
    "avg_actions = evaluate_average_policy(best_model, env_eval, num_trajectories=1000)\n",
    "\n",
    "# Plot the average actions over steps\n",
    "plt.figure(figsize=(8, 5))\n",
    "plt.plot(range(len(avg_actions)), avg_actions, marker=\"o\", linestyle=\"-\", label=\"Average Actions\")\n",
    "plt.xlabel(\"Step\")\n",
    "plt.ylabel(\"Average Action\")\n",
    "plt.title(\"Average Actions Over 1000 Trajectories\")\n",
    "plt.legend()\n",
    "plt.grid()\n",
    "plt.show()\n"
   ]
  },
  {
   "cell_type": "code",
   "execution_count": null,
   "metadata": {},
   "outputs": [],
   "source": []
  },
  {
   "cell_type": "code",
   "execution_count": null,
   "metadata": {},
   "outputs": [
    {
     "data": {
      "text/html": [
       "<pre style=\"white-space:pre;overflow-x:auto;line-height:normal;font-family:Menlo,'DejaVu Sans Mono',consolas,'Courier New',monospace\">Iteration 1: Training RL model with λ = 0.1000\n",
       "</pre>\n"
      ],
      "text/plain": [
       "Iteration 1: Training RL model with λ = 0.1000\n"
      ]
     },
     "metadata": {},
     "output_type": "display_data"
    },
    {
     "ename": "LiveError",
     "evalue": "Only one live display may be active at once",
     "output_type": "error",
     "traceback": [
      "\u001b[0;31m---------------------------------------------------------------------------\u001b[0m",
      "\u001b[0;31mLiveError\u001b[0m                                 Traceback (most recent call last)",
      "Cell \u001b[0;32mIn[20], line 39\u001b[0m\n\u001b[1;32m     37\u001b[0m \u001b[38;5;66;03m# Train PPO with current lambda\u001b[39;00m\n\u001b[1;32m     38\u001b[0m model \u001b[38;5;241m=\u001b[39m PPO(\u001b[38;5;124m\"\u001b[39m\u001b[38;5;124mMultiInputPolicy\u001b[39m\u001b[38;5;124m\"\u001b[39m, env, gamma\u001b[38;5;241m=\u001b[39m\u001b[38;5;241m0.9999999\u001b[39m, tensorboard_log\u001b[38;5;241m=\u001b[39mtensorboard_log_path, verbose\u001b[38;5;241m=\u001b[39m\u001b[38;5;241m0\u001b[39m)\n\u001b[0;32m---> 39\u001b[0m \u001b[43mmodel\u001b[49m\u001b[38;5;241;43m.\u001b[39;49m\u001b[43mlearn\u001b[49m\u001b[43m(\u001b[49m\u001b[38;5;28;43mint\u001b[39;49m\u001b[43m(\u001b[49m\u001b[38;5;241;43m8e5\u001b[39;49m\u001b[43m)\u001b[49m\u001b[43m,\u001b[49m\u001b[43m \u001b[49m\u001b[43mprogress_bar\u001b[49m\u001b[38;5;241;43m=\u001b[39;49m\u001b[38;5;28;43;01mTrue\u001b[39;49;00m\u001b[43m,\u001b[49m\u001b[43m \u001b[49m\u001b[43mcallback\u001b[49m\u001b[38;5;241;43m=\u001b[39;49m\u001b[43meval_callback\u001b[49m\u001b[43m)\u001b[49m\n\u001b[1;32m     41\u001b[0m \u001b[38;5;66;03m# Evaluate safety\u001b[39;00m\n\u001b[1;32m     42\u001b[0m best_model \u001b[38;5;241m=\u001b[39m PPO\u001b[38;5;241m.\u001b[39mload(os\u001b[38;5;241m.\u001b[39mpath\u001b[38;5;241m.\u001b[39mjoin(model_save_path, \u001b[38;5;124m\"\u001b[39m\u001b[38;5;124mbest_model.zip\u001b[39m\u001b[38;5;124m\"\u001b[39m))\n",
      "File \u001b[0;32m~/ruijing/liquidation_RL/rl_env/lib/python3.9/site-packages/stable_baselines3/ppo/ppo.py:307\u001b[0m, in \u001b[0;36mPPO.learn\u001b[0;34m(self, total_timesteps, callback, log_interval, tb_log_name, reset_num_timesteps, progress_bar)\u001b[0m\n\u001b[1;32m    297\u001b[0m \u001b[38;5;28;01mdef\u001b[39;00m\u001b[38;5;250m \u001b[39m\u001b[38;5;21mlearn\u001b[39m(\n\u001b[1;32m    298\u001b[0m     \u001b[38;5;28mself\u001b[39m: SelfPPO,\n\u001b[1;32m    299\u001b[0m     total_timesteps: \u001b[38;5;28mint\u001b[39m,\n\u001b[0;32m   (...)\u001b[0m\n\u001b[1;32m    304\u001b[0m     progress_bar: \u001b[38;5;28mbool\u001b[39m \u001b[38;5;241m=\u001b[39m \u001b[38;5;28;01mFalse\u001b[39;00m,\n\u001b[1;32m    305\u001b[0m ) \u001b[38;5;241m-\u001b[39m\u001b[38;5;241m>\u001b[39m SelfPPO:\n\u001b[0;32m--> 307\u001b[0m     \u001b[38;5;28;01mreturn\u001b[39;00m \u001b[38;5;28;43msuper\u001b[39;49m\u001b[43m(\u001b[49m\u001b[43m)\u001b[49m\u001b[38;5;241;43m.\u001b[39;49m\u001b[43mlearn\u001b[49m\u001b[43m(\u001b[49m\n\u001b[1;32m    308\u001b[0m \u001b[43m        \u001b[49m\u001b[43mtotal_timesteps\u001b[49m\u001b[38;5;241;43m=\u001b[39;49m\u001b[43mtotal_timesteps\u001b[49m\u001b[43m,\u001b[49m\n\u001b[1;32m    309\u001b[0m \u001b[43m        \u001b[49m\u001b[43mcallback\u001b[49m\u001b[38;5;241;43m=\u001b[39;49m\u001b[43mcallback\u001b[49m\u001b[43m,\u001b[49m\n\u001b[1;32m    310\u001b[0m \u001b[43m        \u001b[49m\u001b[43mlog_interval\u001b[49m\u001b[38;5;241;43m=\u001b[39;49m\u001b[43mlog_interval\u001b[49m\u001b[43m,\u001b[49m\n\u001b[1;32m    311\u001b[0m \u001b[43m        \u001b[49m\u001b[43mtb_log_name\u001b[49m\u001b[38;5;241;43m=\u001b[39;49m\u001b[43mtb_log_name\u001b[49m\u001b[43m,\u001b[49m\n\u001b[1;32m    312\u001b[0m \u001b[43m        \u001b[49m\u001b[43mreset_num_timesteps\u001b[49m\u001b[38;5;241;43m=\u001b[39;49m\u001b[43mreset_num_timesteps\u001b[49m\u001b[43m,\u001b[49m\n\u001b[1;32m    313\u001b[0m \u001b[43m        \u001b[49m\u001b[43mprogress_bar\u001b[49m\u001b[38;5;241;43m=\u001b[39;49m\u001b[43mprogress_bar\u001b[49m\u001b[43m,\u001b[49m\n\u001b[1;32m    314\u001b[0m \u001b[43m    \u001b[49m\u001b[43m)\u001b[49m\n",
      "File \u001b[0;32m~/ruijing/liquidation_RL/rl_env/lib/python3.9/site-packages/stable_baselines3/common/on_policy_algorithm.py:244\u001b[0m, in \u001b[0;36mOnPolicyAlgorithm.learn\u001b[0;34m(self, total_timesteps, callback, log_interval, tb_log_name, reset_num_timesteps, progress_bar)\u001b[0m\n\u001b[1;32m    234\u001b[0m iteration \u001b[38;5;241m=\u001b[39m \u001b[38;5;241m0\u001b[39m\n\u001b[1;32m    236\u001b[0m total_timesteps, callback \u001b[38;5;241m=\u001b[39m \u001b[38;5;28mself\u001b[39m\u001b[38;5;241m.\u001b[39m_setup_learn(\n\u001b[1;32m    237\u001b[0m     total_timesteps,\n\u001b[1;32m    238\u001b[0m     callback,\n\u001b[0;32m   (...)\u001b[0m\n\u001b[1;32m    241\u001b[0m     progress_bar,\n\u001b[1;32m    242\u001b[0m )\n\u001b[0;32m--> 244\u001b[0m \u001b[43mcallback\u001b[49m\u001b[38;5;241;43m.\u001b[39;49m\u001b[43mon_training_start\u001b[49m\u001b[43m(\u001b[49m\u001b[38;5;28;43mlocals\u001b[39;49m\u001b[43m(\u001b[49m\u001b[43m)\u001b[49m\u001b[43m,\u001b[49m\u001b[43m \u001b[49m\u001b[38;5;28;43mglobals\u001b[39;49m\u001b[43m(\u001b[49m\u001b[43m)\u001b[49m\u001b[43m)\u001b[49m\n\u001b[1;32m    246\u001b[0m \u001b[38;5;28;01mwhile\u001b[39;00m \u001b[38;5;28mself\u001b[39m\u001b[38;5;241m.\u001b[39mnum_timesteps \u001b[38;5;241m<\u001b[39m total_timesteps:\n\u001b[1;32m    248\u001b[0m     continue_training \u001b[38;5;241m=\u001b[39m \u001b[38;5;28mself\u001b[39m\u001b[38;5;241m.\u001b[39mcollect_rollouts(\u001b[38;5;28mself\u001b[39m\u001b[38;5;241m.\u001b[39menv, callback, \u001b[38;5;28mself\u001b[39m\u001b[38;5;241m.\u001b[39mrollout_buffer, n_rollout_steps\u001b[38;5;241m=\u001b[39m\u001b[38;5;28mself\u001b[39m\u001b[38;5;241m.\u001b[39mn_steps)\n",
      "File \u001b[0;32m~/ruijing/liquidation_RL/rl_env/lib/python3.9/site-packages/stable_baselines3/common/callbacks.py:70\u001b[0m, in \u001b[0;36mBaseCallback.on_training_start\u001b[0;34m(self, locals_, globals_)\u001b[0m\n\u001b[1;32m     68\u001b[0m \u001b[38;5;66;03m# Update num_timesteps in case training was done before\u001b[39;00m\n\u001b[1;32m     69\u001b[0m \u001b[38;5;28mself\u001b[39m\u001b[38;5;241m.\u001b[39mnum_timesteps \u001b[38;5;241m=\u001b[39m \u001b[38;5;28mself\u001b[39m\u001b[38;5;241m.\u001b[39mmodel\u001b[38;5;241m.\u001b[39mnum_timesteps\n\u001b[0;32m---> 70\u001b[0m \u001b[38;5;28;43mself\u001b[39;49m\u001b[38;5;241;43m.\u001b[39;49m\u001b[43m_on_training_start\u001b[49m\u001b[43m(\u001b[49m\u001b[43m)\u001b[49m\n",
      "File \u001b[0;32m~/ruijing/liquidation_RL/rl_env/lib/python3.9/site-packages/stable_baselines3/common/callbacks.py:194\u001b[0m, in \u001b[0;36mCallbackList._on_training_start\u001b[0;34m(self)\u001b[0m\n\u001b[1;32m    192\u001b[0m \u001b[38;5;28;01mdef\u001b[39;00m\u001b[38;5;250m \u001b[39m\u001b[38;5;21m_on_training_start\u001b[39m(\u001b[38;5;28mself\u001b[39m) \u001b[38;5;241m-\u001b[39m\u001b[38;5;241m>\u001b[39m \u001b[38;5;28;01mNone\u001b[39;00m:\n\u001b[1;32m    193\u001b[0m     \u001b[38;5;28;01mfor\u001b[39;00m callback \u001b[38;5;129;01min\u001b[39;00m \u001b[38;5;28mself\u001b[39m\u001b[38;5;241m.\u001b[39mcallbacks:\n\u001b[0;32m--> 194\u001b[0m         \u001b[43mcallback\u001b[49m\u001b[38;5;241;43m.\u001b[39;49m\u001b[43mon_training_start\u001b[49m\u001b[43m(\u001b[49m\u001b[38;5;28;43mself\u001b[39;49m\u001b[38;5;241;43m.\u001b[39;49m\u001b[43mlocals\u001b[49m\u001b[43m,\u001b[49m\u001b[43m \u001b[49m\u001b[38;5;28;43mself\u001b[39;49m\u001b[38;5;241;43m.\u001b[39;49m\u001b[43mglobals\u001b[49m\u001b[43m)\u001b[49m\n",
      "File \u001b[0;32m~/ruijing/liquidation_RL/rl_env/lib/python3.9/site-packages/stable_baselines3/common/callbacks.py:70\u001b[0m, in \u001b[0;36mBaseCallback.on_training_start\u001b[0;34m(self, locals_, globals_)\u001b[0m\n\u001b[1;32m     68\u001b[0m \u001b[38;5;66;03m# Update num_timesteps in case training was done before\u001b[39;00m\n\u001b[1;32m     69\u001b[0m \u001b[38;5;28mself\u001b[39m\u001b[38;5;241m.\u001b[39mnum_timesteps \u001b[38;5;241m=\u001b[39m \u001b[38;5;28mself\u001b[39m\u001b[38;5;241m.\u001b[39mmodel\u001b[38;5;241m.\u001b[39mnum_timesteps\n\u001b[0;32m---> 70\u001b[0m \u001b[38;5;28;43mself\u001b[39;49m\u001b[38;5;241;43m.\u001b[39;49m\u001b[43m_on_training_start\u001b[49m\u001b[43m(\u001b[49m\u001b[43m)\u001b[49m\n",
      "File \u001b[0;32m~/ruijing/liquidation_RL/rl_env/lib/python3.9/site-packages/stable_baselines3/common/callbacks.py:680\u001b[0m, in \u001b[0;36mProgressBarCallback._on_training_start\u001b[0;34m(self)\u001b[0m\n\u001b[1;32m    677\u001b[0m \u001b[38;5;28;01mdef\u001b[39;00m\u001b[38;5;250m \u001b[39m\u001b[38;5;21m_on_training_start\u001b[39m(\u001b[38;5;28mself\u001b[39m) \u001b[38;5;241m-\u001b[39m\u001b[38;5;241m>\u001b[39m \u001b[38;5;28;01mNone\u001b[39;00m:\n\u001b[1;32m    678\u001b[0m     \u001b[38;5;66;03m# Initialize progress bar\u001b[39;00m\n\u001b[1;32m    679\u001b[0m     \u001b[38;5;66;03m# Remove timesteps that were done in previous training sessions\u001b[39;00m\n\u001b[0;32m--> 680\u001b[0m     \u001b[38;5;28mself\u001b[39m\u001b[38;5;241m.\u001b[39mpbar \u001b[38;5;241m=\u001b[39m \u001b[43mtqdm\u001b[49m\u001b[43m(\u001b[49m\u001b[43mtotal\u001b[49m\u001b[38;5;241;43m=\u001b[39;49m\u001b[38;5;28;43mself\u001b[39;49m\u001b[38;5;241;43m.\u001b[39;49m\u001b[43mlocals\u001b[49m\u001b[43m[\u001b[49m\u001b[38;5;124;43m\"\u001b[39;49m\u001b[38;5;124;43mtotal_timesteps\u001b[39;49m\u001b[38;5;124;43m\"\u001b[39;49m\u001b[43m]\u001b[49m\u001b[43m \u001b[49m\u001b[38;5;241;43m-\u001b[39;49m\u001b[43m \u001b[49m\u001b[38;5;28;43mself\u001b[39;49m\u001b[38;5;241;43m.\u001b[39;49m\u001b[43mmodel\u001b[49m\u001b[38;5;241;43m.\u001b[39;49m\u001b[43mnum_timesteps\u001b[49m\u001b[43m)\u001b[49m\n",
      "File \u001b[0;32m~/ruijing/liquidation_RL/rl_env/lib/python3.9/site-packages/tqdm/rich.py:113\u001b[0m, in \u001b[0;36mtqdm_rich.__init__\u001b[0;34m(self, *args, **kwargs)\u001b[0m\n\u001b[1;32m    111\u001b[0m options\u001b[38;5;241m.\u001b[39msetdefault(\u001b[38;5;124m'\u001b[39m\u001b[38;5;124mtransient\u001b[39m\u001b[38;5;124m'\u001b[39m, \u001b[38;5;129;01mnot\u001b[39;00m \u001b[38;5;28mself\u001b[39m\u001b[38;5;241m.\u001b[39mleave)\n\u001b[1;32m    112\u001b[0m \u001b[38;5;28mself\u001b[39m\u001b[38;5;241m.\u001b[39m_prog \u001b[38;5;241m=\u001b[39m Progress(\u001b[38;5;241m*\u001b[39mprogress, \u001b[38;5;241m*\u001b[39m\u001b[38;5;241m*\u001b[39moptions)\n\u001b[0;32m--> 113\u001b[0m \u001b[38;5;28;43mself\u001b[39;49m\u001b[38;5;241;43m.\u001b[39;49m\u001b[43m_prog\u001b[49m\u001b[38;5;241;43m.\u001b[39;49m\u001b[38;5;21;43m__enter__\u001b[39;49m\u001b[43m(\u001b[49m\u001b[43m)\u001b[49m\n\u001b[1;32m    114\u001b[0m \u001b[38;5;28mself\u001b[39m\u001b[38;5;241m.\u001b[39m_task_id \u001b[38;5;241m=\u001b[39m \u001b[38;5;28mself\u001b[39m\u001b[38;5;241m.\u001b[39m_prog\u001b[38;5;241m.\u001b[39madd_task(\u001b[38;5;28mself\u001b[39m\u001b[38;5;241m.\u001b[39mdesc \u001b[38;5;129;01mor\u001b[39;00m \u001b[38;5;124m\"\u001b[39m\u001b[38;5;124m\"\u001b[39m, \u001b[38;5;241m*\u001b[39m\u001b[38;5;241m*\u001b[39md)\n",
      "File \u001b[0;32m~/ruijing/liquidation_RL/rl_env/lib/python3.9/site-packages/rich/progress.py:1182\u001b[0m, in \u001b[0;36mProgress.__enter__\u001b[0;34m(self)\u001b[0m\n\u001b[1;32m   1181\u001b[0m \u001b[38;5;28;01mdef\u001b[39;00m\u001b[38;5;250m \u001b[39m\u001b[38;5;21m__enter__\u001b[39m(\u001b[38;5;28mself\u001b[39m) \u001b[38;5;241m-\u001b[39m\u001b[38;5;241m>\u001b[39m Self:\n\u001b[0;32m-> 1182\u001b[0m     \u001b[38;5;28;43mself\u001b[39;49m\u001b[38;5;241;43m.\u001b[39;49m\u001b[43mstart\u001b[49m\u001b[43m(\u001b[49m\u001b[43m)\u001b[49m\n\u001b[1;32m   1183\u001b[0m     \u001b[38;5;28;01mreturn\u001b[39;00m \u001b[38;5;28mself\u001b[39m\n",
      "File \u001b[0;32m~/ruijing/liquidation_RL/rl_env/lib/python3.9/site-packages/rich/progress.py:1173\u001b[0m, in \u001b[0;36mProgress.start\u001b[0;34m(self)\u001b[0m\n\u001b[1;32m   1171\u001b[0m \u001b[38;5;250m\u001b[39m\u001b[38;5;124;03m\"\"\"Start the progress display.\"\"\"\u001b[39;00m\n\u001b[1;32m   1172\u001b[0m \u001b[38;5;28;01mif\u001b[39;00m \u001b[38;5;129;01mnot\u001b[39;00m \u001b[38;5;28mself\u001b[39m\u001b[38;5;241m.\u001b[39mdisable:\n\u001b[0;32m-> 1173\u001b[0m     \u001b[38;5;28;43mself\u001b[39;49m\u001b[38;5;241;43m.\u001b[39;49m\u001b[43mlive\u001b[49m\u001b[38;5;241;43m.\u001b[39;49m\u001b[43mstart\u001b[49m\u001b[43m(\u001b[49m\u001b[43mrefresh\u001b[49m\u001b[38;5;241;43m=\u001b[39;49m\u001b[38;5;28;43;01mTrue\u001b[39;49;00m\u001b[43m)\u001b[49m\n",
      "File \u001b[0;32m~/ruijing/liquidation_RL/rl_env/lib/python3.9/site-packages/rich/live.py:113\u001b[0m, in \u001b[0;36mLive.start\u001b[0;34m(self, refresh)\u001b[0m\n\u001b[1;32m    111\u001b[0m \u001b[38;5;28;01mif\u001b[39;00m \u001b[38;5;28mself\u001b[39m\u001b[38;5;241m.\u001b[39m_started:\n\u001b[1;32m    112\u001b[0m     \u001b[38;5;28;01mreturn\u001b[39;00m\n\u001b[0;32m--> 113\u001b[0m \u001b[38;5;28;43mself\u001b[39;49m\u001b[38;5;241;43m.\u001b[39;49m\u001b[43mconsole\u001b[49m\u001b[38;5;241;43m.\u001b[39;49m\u001b[43mset_live\u001b[49m\u001b[43m(\u001b[49m\u001b[38;5;28;43mself\u001b[39;49m\u001b[43m)\u001b[49m\n\u001b[1;32m    114\u001b[0m \u001b[38;5;28mself\u001b[39m\u001b[38;5;241m.\u001b[39m_started \u001b[38;5;241m=\u001b[39m \u001b[38;5;28;01mTrue\u001b[39;00m\n\u001b[1;32m    115\u001b[0m \u001b[38;5;28;01mif\u001b[39;00m \u001b[38;5;28mself\u001b[39m\u001b[38;5;241m.\u001b[39m_screen:\n",
      "File \u001b[0;32m~/ruijing/liquidation_RL/rl_env/lib/python3.9/site-packages/rich/console.py:835\u001b[0m, in \u001b[0;36mConsole.set_live\u001b[0;34m(self, live)\u001b[0m\n\u001b[1;32m    833\u001b[0m \u001b[38;5;28;01mwith\u001b[39;00m \u001b[38;5;28mself\u001b[39m\u001b[38;5;241m.\u001b[39m_lock:\n\u001b[1;32m    834\u001b[0m     \u001b[38;5;28;01mif\u001b[39;00m \u001b[38;5;28mself\u001b[39m\u001b[38;5;241m.\u001b[39m_live \u001b[38;5;129;01mis\u001b[39;00m \u001b[38;5;129;01mnot\u001b[39;00m \u001b[38;5;28;01mNone\u001b[39;00m:\n\u001b[0;32m--> 835\u001b[0m         \u001b[38;5;28;01mraise\u001b[39;00m errors\u001b[38;5;241m.\u001b[39mLiveError(\u001b[38;5;124m\"\u001b[39m\u001b[38;5;124mOnly one live display may be active at once\u001b[39m\u001b[38;5;124m\"\u001b[39m)\n\u001b[1;32m    836\u001b[0m     \u001b[38;5;28mself\u001b[39m\u001b[38;5;241m.\u001b[39m_live \u001b[38;5;241m=\u001b[39m live\n",
      "\u001b[0;31mLiveError\u001b[0m: Only one live display may be active at once"
     ]
    }
   ],
   "source": [
    "import os\n",
    "import numpy as np\n",
    "from stable_baselines3 import PPO\n",
    "from stable_baselines3.common.callbacks import EvalCallback\n",
    "\n",
    "# Hyperparameters\n",
    "num_iterations = 10  # Number of iterations to update lambda\n",
    "eta_lambda = 0.01  # Step size for dual variable update\n",
    "delta = 0.2  # Safety threshold\n",
    "lambda_value = 0.1  # Initial lambda value\n",
    "tolerance = 0.85  # Convergence criteria for lambda\n",
    "liability_value = 10600  # New liability value\n",
    "\n",
    "# Define save paths dynamically based on liability value\n",
    "model_save_path = f\"../log/model/liability_{liability_value}/\"\n",
    "tensorboard_log_path = f\"../log/tensorboard_liability_{liability_value}/\"\n",
    "\n",
    "# Ensure directories exist\n",
    "os.makedirs(model_save_path, exist_ok=True)\n",
    "os.makedirs(tensorboard_log_path, exist_ok=True)\n",
    "\n",
    "# Initialize environment with the updated liability value\n",
    "env = LiquidationEnv(n_assets=1, initial_shares=250, lambda_value=lambda_value, liability=liability_value)\n",
    "env_eval = LiquidationEnv(n_assets=1, initial_shares=250, lambda_value=lambda_value, liability=liability_value)\n",
    "\n",
    "eval_callback = EvalCallback(env_eval, \n",
    "                             best_model_save_path=model_save_path,\n",
    "                             eval_freq=100,\n",
    "                             deterministic=True, \n",
    "                             render=False,\n",
    "                             verbose=0)\n",
    "\n",
    "# Iterate over lambda updates\n",
    "for iteration in range(num_iterations):\n",
    "    print(f\"Iteration {iteration + 1}: Training RL model with λ = {lambda_value:.4f}\")\n",
    "\n",
    "    # Train PPO with current lambda\n",
    "    model = PPO(\"MultiInputPolicy\", env, gamma=0.9999999, tensorboard_log=tensorboard_log_path, verbose=0)\n",
    "    model.learn(int(8e5), progress_bar=True, callback=eval_callback)\n",
    "\n",
    "    # Evaluate safety\n",
    "    best_model = PPO.load(os.path.join(model_save_path, \"best_model.zip\"))\n",
    "    safety_ratio, avg_reward = evaluate_policy(best_model, env_eval, num_episodes=1000)\n",
    "    print(f\"Safety ratio: {safety_ratio:.4f}, Avg Reward: {avg_reward:.4f}\")\n",
    "\n",
    "    # Update lambda using dual gradient update\n",
    "    new_lambda = max(lambda_value - eta_lambda * (safety_ratio - (1 - delta)), 0)\n",
    "    print(f\"Updated λ: {new_lambda:.4f}\")\n",
    "\n",
    "    # Convergence check\n",
    "    if safety_ratio > 1 - delta:\n",
    "        print(\"Satisfying constraint; Stopping updates.\")\n",
    "        break\n",
    "    \n",
    "    lambda_value = new_lambda  # Update lambda for next iteration\n",
    "\n",
    "    # Update environments with new lambda\n",
    "    env.lambda_value = lambda_value\n",
    "    env_eval.lambda_value = lambda_value\n"
   ]
  },
  {
   "cell_type": "code",
   "execution_count": null,
   "metadata": {},
   "outputs": [],
   "source": []
  },
  {
   "cell_type": "code",
   "execution_count": null,
   "metadata": {},
   "outputs": [],
   "source": []
  },
  {
   "cell_type": "markdown",
   "metadata": {},
   "source": [
    "#### evaluate fixed policy"
   ]
  },
  {
   "cell_type": "code",
   "execution_count": 38,
   "metadata": {},
   "outputs": [],
   "source": [
    "import numpy as np\n",
    "env_test = LiquidationEnv(n_assets=1, initial_shares = 250)\n",
    "\n",
    "def evaluate_fixed_policy(env, num_episodes=1000, policy_actions=None):\n",
    "    \"\"\"\n",
    "    Evaluates a fixed policy in the given environment and computes the safety ratio.\n",
    "\n",
    "    Parameters:\n",
    "        env: The evaluation environment.\n",
    "        num_episodes: Number of episodes to run.\n",
    "        policy_actions: A list of actions for steps 0, 1, 2, 3. \n",
    "                        The step 4 action will be computed as `1 - sum(policy_actions)`.\n",
    "    \n",
    "    Returns:\n",
    "        safety_ratio: Fraction of episodes that were entirely safe.\n",
    "        avg_reward: Average episode reward.\n",
    "    \"\"\"\n",
    "    if policy_actions is None or len(policy_actions) != 4:\n",
    "        raise ValueError(\"policy_actions must be a list of 4 predefined actions for steps 0, 1, 2, and 3.\")\n",
    "\n",
    "    safe_episodes = 0\n",
    "    total_rewards = []\n",
    "\n",
    "    for episode in range(num_episodes):\n",
    "        obs = env.reset()\n",
    "        done = False\n",
    "        episode_reward = 0\n",
    "        is_episode_safe = True  # Assume safe until proven otherwise\n",
    "        step_count = 0\n",
    "        actions_taken = []\n",
    "\n",
    "        while not done and step_count < 5:  # Limit to 5 steps\n",
    "            if step_count < 4:\n",
    "                action = policy_actions[step_count]  # Use predefined action\n",
    "            elif step_count == 4:\n",
    "                # Compute step 4 action as `1 - sum(actions_taken)`\n",
    "                action = max(0, 1 - np.sum(actions_taken))\n",
    "            \n",
    "            obs, reward, done, info = env.step(action)\n",
    "            episode_reward += reward\n",
    "            actions_taken.append(action)\n",
    "\n",
    "            # Check safety status\n",
    "            if 'is_safe' in info:\n",
    "                if not info['is_safe']:\n",
    "                    is_episode_safe = False  # Mark episode as unsafe if any step is unsafe\n",
    "\n",
    "            step_count += 1\n",
    "\n",
    "        # Track safety only if the entire episode was safe\n",
    "        if is_episode_safe:\n",
    "            safe_episodes += 1\n",
    "        total_rewards.append(episode_reward)\n",
    "\n",
    "    # Calculate metrics\n",
    "    safety_ratio = safe_episodes / num_episodes\n",
    "    avg_reward = np.mean(total_rewards)\n",
    "\n",
    "    return safety_ratio, avg_reward\n"
   ]
  },
  {
   "cell_type": "code",
   "execution_count": 47,
   "metadata": {},
   "outputs": [
    {
     "name": "stdout",
     "output_type": "stream",
     "text": [
      "Evenly Spread Policy -> Safety Ratio: 0.1140, Avg Reward: 1.1445\n"
     ]
    }
   ],
   "source": [
    "# Define an evenly spread policy (first 4 steps)\n",
    "even_spread_policy = [0.2, 0.2, 0.2, 0.2]  # Step 4 will be `1 - sum(policy_actions)`\n",
    "\n",
    "# Run evaluation\n",
    "safety_ratio, avg_reward = evaluate_fixed_policy(env_test, num_episodes=1000, policy_actions=even_spread_policy)\n",
    "print(f\"Evenly Spread Policy -> Safety Ratio: {safety_ratio:.4f}, Avg Reward: {avg_reward:.4f}\")\n"
   ]
  },
  {
   "cell_type": "code",
   "execution_count": null,
   "metadata": {},
   "outputs": [],
   "source": []
  },
  {
   "cell_type": "code",
   "execution_count": null,
   "metadata": {},
   "outputs": [],
   "source": []
  },
  {
   "cell_type": "code",
   "execution_count": null,
   "metadata": {},
   "outputs": [],
   "source": []
  },
  {
   "cell_type": "code",
   "execution_count": null,
   "metadata": {},
   "outputs": [],
   "source": []
  },
  {
   "cell_type": "code",
   "execution_count": null,
   "metadata": {},
   "outputs": [],
   "source": []
  },
  {
   "cell_type": "code",
   "execution_count": null,
   "metadata": {},
   "outputs": [],
   "source": []
  },
  {
   "cell_type": "code",
   "execution_count": null,
   "metadata": {},
   "outputs": [],
   "source": []
  },
  {
   "cell_type": "code",
   "execution_count": null,
   "metadata": {},
   "outputs": [],
   "source": [
    "def get_liquidation_actions(model, env, n_episodes=5):\n",
    "    all_episode_actions = []\n",
    "    all_remaining_shares = []\n",
    "\n",
    "    for _ in range(n_episodes):\n",
    "        obs = env.reset()\n",
    "        done = False\n",
    "        episode_actions = []\n",
    "        remaining_shares = [env.state['remaining'].copy()]\n",
    "        prices = [env.initial_prices.copy()]\n",
    "        while not done:\n",
    "            action, _ = model.predict(obs, deterministic=True)\n",
    "            episode_actions.append(action)\n",
    "            obs, _, done, _ = env.step(action)\n",
    "            remaining_shares.append(env.state['remaining'].copy())\n",
    "            prices.append(env.state['prices'].copy())\n",
    "        all_episode_actions.append(episode_actions)\n",
    "        all_remaining_shares.append(np.array(remaining_shares))\n",
    "    average_actions = np.mean(all_episode_actions, axis=0)\n",
    "    average_remaining = np.mean(all_remaining_shares, axis =0)\n",
    "    return average_actions, average_remaining"
   ]
  },
  {
   "cell_type": "code",
   "execution_count": null,
   "metadata": {},
   "outputs": [],
   "source": []
  },
  {
   "cell_type": "code",
   "execution_count": 11,
   "metadata": {},
   "outputs": [],
   "source": [
    "from stable_baselines3.common.callbacks import BaseCallback\n",
    "import numpy as np\n",
    "\n",
    "class DualUpdateCallback(BaseCallback):\n",
    "    def __init__(self, train_env, eval_env, eta_lambda=0.01, delta=0.1, batch_size=32, verbose=0):\n",
    "        super(DualUpdateCallback, self).__init__(verbose)\n",
    "        self.train_env = train_env\n",
    "        self.eval_env = eval_env\n",
    "        self.eta_lambda = eta_lambda\n",
    "        self.delta = delta\n",
    "        self.batch_size = batch_size\n",
    "        self.s_buffer = []  # Stores safety indicators (S) for trajectories\n",
    "        self.current_episode_safety = []  # Tracks safety per step in the current episode\n",
    "\n",
    "    def _on_step(self) -> bool:\n",
    "        # Extract safety status and done flag for the current step\n",
    "        done = self.locals['dones'][0]\n",
    "        is_safe = self.locals['infos'][0].get('is_safe', False)\n",
    "        \n",
    "        self.current_episode_safety.append(is_safe)\n",
    "        \n",
    "        if done:\n",
    "            # Check if the entire episode was safe (S = 1 if all steps safe, else 0)\n",
    "            S = 1 if all(self.current_episode_safety) else 0\n",
    "            self.s_buffer.append(S)\n",
    "            self.current_episode_safety = []\n",
    "            \n",
    "            # Update lambda if enough trajectories are collected\n",
    "            if len(self.s_buffer) >= self.batch_size:\n",
    "                S_avg = np.mean(self.s_buffer)\n",
    "                lambda_new = max(0, self.train_env.lambda_value - self.eta_lambda * (S_avg - (1 - self.delta)))\n",
    "                \n",
    "                # Update lambda for both training and evaluation environments\n",
    "                self.train_env.lambda_value = lambda_new\n",
    "                self.eval_env.lambda_value = lambda_new\n",
    "                self.s_buffer = []  # Reset buffer\n",
    "                \n",
    "                # if self.verbose > 0:\n",
    "                #     #print(f\"Updated lambda: {lambda_new:.4f} | Safety Rate (S_avg): {S_avg:.2f}\")\n",
    "        return True"
   ]
  },
  {
   "cell_type": "code",
   "execution_count": 21,
   "metadata": {},
   "outputs": [
    {
     "data": {
      "application/vnd.jupyter.widget-view+json": {
       "model_id": "01c995149fb04a28aab1c1b33805fc23",
       "version_major": 2,
       "version_minor": 0
      },
      "text/plain": [
       "Output()"
      ]
     },
     "metadata": {},
     "output_type": "display_data"
    },
    {
     "data": {
      "text/html": [
       "<pre style=\"white-space:pre;overflow-x:auto;line-height:normal;font-family:Menlo,'DejaVu Sans Mono',consolas,'Courier New',monospace\"></pre>\n"
      ],
      "text/plain": []
     },
     "metadata": {},
     "output_type": "display_data"
    },
    {
     "data": {
      "text/plain": [
       "<stable_baselines3.ppo.ppo.PPO at 0x79847b913e20>"
      ]
     },
     "execution_count": 21,
     "metadata": {},
     "output_type": "execute_result"
    }
   ],
   "source": [
    "from stable_baselines3 import PPO\n",
    "from stable_baselines3.common.env_checker import check_env\n",
    "from stable_baselines3.common.callbacks import EvalCallback\n",
    "env = LiquidationEnv(\n",
    "    n_assets=1, \n",
    "    initial_shares=250, \n",
    "    price_generator=PriceModel.price_model_1, \n",
    "    liability = 8250,\n",
    "    lambda_value=0.1  # Initial lambda\n",
    ")\n",
    "env_eval = LiquidationEnv(\n",
    "    n_assets=1, \n",
    "    initial_shares=250, \n",
    "    price_generator=PriceModel.price_model_1, \n",
    "    liability = 8250,\n",
    "    lambda_value=0.1  # Sync initial lambda\n",
    ")\n",
    "\n",
    "# Create callbacks\n",
    "eval_callback = EvalCallback(\n",
    "    env_eval, \n",
    "    best_model_save_path=\"../log/model/test/\",\n",
    "    eval_freq=100,\n",
    "    deterministic=True, \n",
    "    render=False,\n",
    "    verbose=0\n",
    ")\n",
    "\n",
    "dual_callback = DualUpdateCallback(\n",
    "    train_env=env, \n",
    "    eval_env=env_eval, \n",
    "    eta_lambda=0.01,  # Learning rate for dual variable\n",
    "    delta=0.1,        # Safety threshold (1 - delta)\n",
    "    batch_size=32,     # Number of trajectories per batch\n",
    "    verbose=1\n",
    ")\n",
    "\n",
    "# Train the model\n",
    "model = PPO(\n",
    "    \"MultiInputPolicy\", \n",
    "    env, \n",
    "    gamma=0.9999999, \n",
    "    tensorboard_log=\"../log/tensorboard_test/\", \n",
    "    verbose=0\n",
    ")\n",
    "model.learn(\n",
    "    total_timesteps=int(8e5), \n",
    "    progress_bar=True, \n",
    "    callback=[eval_callback, dual_callback]  # Combine callbacks\n",
    ")"
   ]
  },
  {
   "cell_type": "code",
   "execution_count": 5,
   "metadata": {},
   "outputs": [
    {
     "name": "stderr",
     "output_type": "stream",
     "text": [
      "/home/ruijing/ruijing/liquidation_RL/rl_env/lib/python3.9/site-packages/stable_baselines3/common/env_checker.py:361: UserWarning: We recommend you to use a symmetric and normalized Box action space (range=[-1, 1]) cf https://stable-baselines3.readthedocs.io/en/master/guide/rl_tips.html\n",
      "  warnings.warn(\n"
     ]
    }
   ],
   "source": [
    "from stable_baselines3 import PPO\n",
    "from stable_baselines3.common.env_checker import check_env\n",
    "from stable_baselines3.common.callbacks import EvalCallback\n",
    "env = LiquidationEnv(n_assets=1, initial_shares=250, price_generator = PriceModel.price_model_1)\n",
    "check_env(env)\n"
   ]
  },
  {
   "cell_type": "code",
   "execution_count": 4,
   "metadata": {},
   "outputs": [
    {
     "name": "stdout",
     "output_type": "stream",
     "text": [
      "Step: 0\n",
      "Prices: [1.]\n",
      "Remaining: [1.]\n",
      "Accumulated Revenue: 0.00\n",
      "\n"
     ]
    }
   ],
   "source": []
  },
  {
   "cell_type": "code",
   "execution_count": 8,
   "metadata": {},
   "outputs": [
    {
     "name": "stdout",
     "output_type": "stream",
     "text": [
      "Step: 4\n",
      "Prices: [0.54348009]\n",
      "Remaining: [0.2]\n",
      "Accumulated Revenue: 0.08\n",
      "\n"
     ]
    }
   ],
   "source": [
    "action = np.ones(1)*0.2\n",
    "\n",
    "env.step(action)\n",
    "\n",
    "env.render()"
   ]
  },
  {
   "cell_type": "code",
   "execution_count": null,
   "metadata": {},
   "outputs": [
    {
     "data": {
      "application/vnd.jupyter.widget-view+json": {
       "model_id": "2ee44737e71a4497b55cd66164c9fc72",
       "version_major": 2,
       "version_minor": 0
      },
      "text/plain": [
       "Output()"
      ]
     },
     "metadata": {},
     "output_type": "display_data"
    },
    {
     "data": {
      "text/html": [
       "<pre style=\"white-space:pre;overflow-x:auto;line-height:normal;font-family:Menlo,'DejaVu Sans Mono',consolas,'Courier New',monospace\">/home/ruijing/ruijing/liquidation_RL/rl_env/lib/python3.9/site-packages/stable_baselines3/common/evaluation.py:67: \n",
       "UserWarning: Evaluation environment is not wrapped with a ``Monitor`` wrapper. This may result in reporting \n",
       "modified episode lengths and rewards, if other wrappers happen to modify these. Consider wrapping environment first\n",
       "with ``Monitor`` wrapper.\n",
       "  warnings.warn(\n",
       "</pre>\n"
      ],
      "text/plain": [
       "/home/ruijing/ruijing/liquidation_RL/rl_env/lib/python3.9/site-packages/stable_baselines3/common/evaluation.py:67: \n",
       "UserWarning: Evaluation environment is not wrapped with a ``Monitor`` wrapper. This may result in reporting \n",
       "modified episode lengths and rewards, if other wrappers happen to modify these. Consider wrapping environment first\n",
       "with ``Monitor`` wrapper.\n",
       "  warnings.warn(\n"
      ]
     },
     "metadata": {},
     "output_type": "display_data"
    }
   ],
   "source": [
    "from stable_baselines3 import PPO\n",
    "from stable_baselines3.common.env_checker import check_env\n",
    "from stable_baselines3.common.callbacks import EvalCallback\n",
    "\n",
    "\n",
    "env = LiquidationEnv(n_assets=1, initial_shares = 250,price_generator= PriceModel.price_model_1)\n",
    "env_eval = LiquidationEnv(n_assets=1, initial_shares=250,price_generator= PriceModel.price_model_1)\n",
    "eval_callback = EvalCallback(env_eval, \n",
    "                            best_model_save_path=f\"../log/model/test/\",\n",
    "                            eval_freq=100,\n",
    "                            deterministic=True, \n",
    "                            render=False,\n",
    "                            verbose=0)\n",
    "model = PPO(\"MultiInputPolicy\", env, gamma=0.9999999, tensorboard_log=\"../log/tensorboard_test/\", verbose=0)\n",
    "model.learn(int(8e5), progress_bar=True, callback=eval_callback)\n"
   ]
  },
  {
   "cell_type": "code",
   "execution_count": 16,
   "metadata": {},
   "outputs": [],
   "source": [
    "final_lambda_value = env.lambda_value"
   ]
  },
  {
   "cell_type": "code",
   "execution_count": 17,
   "metadata": {},
   "outputs": [
    {
     "data": {
      "text/plain": [
       "np.float64(37.63000000000124)"
      ]
     },
     "execution_count": 17,
     "metadata": {},
     "output_type": "execute_result"
    }
   ],
   "source": [
    "final_lambda_value"
   ]
  },
  {
   "cell_type": "code",
   "execution_count": 18,
   "metadata": {},
   "outputs": [],
   "source": []
  },
  {
   "cell_type": "code",
   "execution_count": 157,
   "metadata": {},
   "outputs": [],
   "source": [
    "def get_liquidation_actions(model, env, n_episodes=5):\n",
    "    all_episode_actions = []\n",
    "    all_remaining_shares = []\n",
    "\n",
    "    for _ in range(n_episodes):\n",
    "        obs = env.reset()\n",
    "        done = False\n",
    "        episode_actions = []\n",
    "        remaining_shares = [env.state['remaining'].copy()]\n",
    "        prices = [env.initial_prices.copy()]\n",
    "        while not done:\n",
    "            action, _ = model.predict(obs, deterministic=True)\n",
    "            episode_actions.append(action)\n",
    "            obs, _, done, _ = env.step(action)\n",
    "            remaining_shares.append(env.state['remaining'].copy())\n",
    "            prices.append(env.state['prices'].copy())\n",
    "        all_episode_actions.append(episode_actions)\n",
    "        all_remaining_shares.append(np.array(remaining_shares))\n",
    "    average_actions = np.mean(all_episode_actions, axis=0)\n",
    "    average_remaining = np.mean(all_remaining_shares, axis =0)\n",
    "    return average_actions, average_remaining"
   ]
  },
  {
   "cell_type": "markdown",
   "metadata": {},
   "source": [
    "### track actions and check safety requirement"
   ]
  },
  {
   "cell_type": "code",
   "execution_count": 19,
   "metadata": {},
   "outputs": [],
   "source": [
    "def evaluate_policy(model, env, num_episodes=1000):\n",
    "    safe_episodes = 0\n",
    "    total_rewards = []\n",
    "    \n",
    "    for _ in range(num_episodes):\n",
    "        obs = env.reset()\n",
    "        done = False\n",
    "        episode_reward = 0\n",
    "        is_episode_safe = True\n",
    "        \n",
    "        while not done:\n",
    "            action, _ = model.predict(obs, deterministic=True)  # Disable exploration\n",
    "            obs, reward, done, info = env.step(action)\n",
    "            episode_reward += reward\n",
    "            \n",
    "            # Check safety for each step\n",
    "            if not info['is_safe']:\n",
    "                is_episode_safe = False\n",
    "        \n",
    "        # Track safety and rewards\n",
    "        if is_episode_safe:\n",
    "            safe_episodes += 1\n",
    "        total_rewards.append(episode_reward)\n",
    "    \n",
    "    # Calculate metrics\n",
    "    safety_ratio = safe_episodes / num_episodes\n",
    "    avg_reward = np.mean(total_rewards)\n",
    "    \n",
    "    return safety_ratio, avg_reward"
   ]
  },
  {
   "cell_type": "code",
   "execution_count": 20,
   "metadata": {},
   "outputs": [
    {
     "name": "stdout",
     "output_type": "stream",
     "text": [
      "Safety Satisfaction Probability: 0.00%\n",
      "Average Reward: 151.1036\n"
     ]
    }
   ],
   "source": [
    "# Initialize the evaluation environment with the final lambda value\n",
    "env_eval = LiquidationEnv(\n",
    "    n_assets=1, \n",
    "    initial_shares=250, \n",
    "    price_generator=PriceModel.price_model_1, \n",
    "    lambda_value=final_lambda_value # Ensure lambda matches the trained policy\n",
    ")\n",
    "\n",
    "# Evaluate the policy\n",
    "safety_ratio, avg_reward = evaluate_policy(model, env_eval, num_episodes=1000)\n",
    "\n",
    "print(f\"Safety Satisfaction Probability: {safety_ratio * 100:.2f}%\")\n",
    "print(f\"Average Reward: {avg_reward:.4f}\")"
   ]
  },
  {
   "cell_type": "code",
   "execution_count": 158,
   "metadata": {},
   "outputs": [],
   "source": [
    "episode_actions, remaining_shares = get_liquidation_actions(\n",
    "    best_model, \n",
    "    env_eval,  # Use your evaluation environment\n",
    "    n_episodes=5# For example, get one episode sample\n",
    ")\n"
   ]
  },
  {
   "cell_type": "code",
   "execution_count": 161,
   "metadata": {},
   "outputs": [
    {
     "data": {
      "text/plain": [
       "array([[0.20257708],\n",
       "       [0.2021124 ],\n",
       "       [0.2016286 ],\n",
       "       [0.20115793],\n",
       "       [0.20069608]], dtype=float32)"
      ]
     },
     "execution_count": 161,
     "metadata": {},
     "output_type": "execute_result"
    }
   ],
   "source": [
    "episode_actions"
   ]
  },
  {
   "cell_type": "code",
   "execution_count": 162,
   "metadata": {},
   "outputs": [
    {
     "data": {
      "text/plain": [
       "array([[250.     ],\n",
       "       [199.35573],\n",
       "       [148.82762],\n",
       "       [ 98.42048],\n",
       "       [ 48.131  ],\n",
       "       [  0.     ]], dtype=float32)"
      ]
     },
     "execution_count": 162,
     "metadata": {},
     "output_type": "execute_result"
    }
   ],
   "source": [
    "remaining_shares*250"
   ]
  },
  {
   "cell_type": "code",
   "execution_count": 29,
   "metadata": {},
   "outputs": [
    {
     "name": "stdout",
     "output_type": "stream",
     "text": [
      "=== Optimal Liquidation Strategy ===\n",
      "Step 1:\n",
      "  Action (% to liquidate): 0.17651253938674927\n",
      "  Remaining shares: 1.0\n",
      "\n",
      "Step 2:\n",
      "  Action (% to liquidate): 0.18419243395328522\n",
      "  Remaining shares: 1.0\n",
      "\n",
      "Step 3:\n",
      "  Action (% to liquidate): 0.18629863858222961\n",
      "  Remaining shares: 1.0\n",
      "\n",
      "Step 4:\n",
      "  Action (% to liquidate): 0.1816655993461609\n",
      "  Remaining shares: 1.0\n",
      "\n",
      "Final remaining shares: 1.0 (Should be all zeros)\n"
     ]
    }
   ],
   "source": [
    "# Get liquidation trajectories\n",
    "episode_actions, remaining_shares = get_liquidation_actions(\n",
    "    best_model, \n",
    "    env_eval,  # Use your evaluation env\n",
    "    n_episodes= 1  # Get 5 episode samples\n",
    ")\n",
    "\n",
    "# Inspect first episode\n",
    "print(\"=== Optimal Liquidation Strategy ===\")\n",
    "for step, (action, remaining) in enumerate(zip(episode_actions[0], remaining_shares[0][:-1])):\n",
    "    print(f\"Step {step+1}:\")\n",
    "    print(f\"  Action (% to liquidate): {action}\")\n",
    "    print(f\"  Remaining shares: {remaining}\\n\")\n",
    "\n",
    "# Verify full liquidation at last step\n",
    "final_remaining = remaining_shares[0][-1]\n",
    "print(f\"Final remaining shares: {final_remaining} (Should be all zeros)\")"
   ]
  },
  {
   "cell_type": "code",
   "execution_count": 244,
   "metadata": {},
   "outputs": [
    {
     "data": {
      "text/plain": [
       "array([0.4336197], dtype=float32)"
      ]
     },
     "execution_count": 244,
     "metadata": {},
     "output_type": "execute_result"
    }
   ],
   "source": [
    "# action = 0.5\n",
    "# obs, _, done, _ = env.step(action)\n",
    "\n",
    "obs['remaining'] = np.array([59], dtype=np.float32)\n",
    "action, _ = model.predict(obs, deterministic=True)\n",
    "action\n",
    "            "
   ]
  },
  {
   "cell_type": "code",
   "execution_count": 235,
   "metadata": {},
   "outputs": [
    {
     "ename": "NameError",
     "evalue": "name 'obs' is not defined",
     "output_type": "error",
     "traceback": [
      "\u001b[0;31m---------------------------------------------------------------------------\u001b[0m",
      "\u001b[0;31mNameError\u001b[0m                                 Traceback (most recent call last)",
      "Cell \u001b[0;32mIn[235], line 1\u001b[0m\n\u001b[0;32m----> 1\u001b[0m \u001b[43mobs\u001b[49m\n",
      "\u001b[0;31mNameError\u001b[0m: name 'obs' is not defined"
     ]
    }
   ],
   "source": [
    "obs"
   ]
  },
  {
   "cell_type": "code",
   "execution_count": 207,
   "metadata": {},
   "outputs": [
    {
     "data": {
      "text/plain": [
       "array([0.6569459], dtype=float32)"
      ]
     },
     "execution_count": 207,
     "metadata": {},
     "output_type": "execute_result"
    }
   ],
   "source": [
    "action"
   ]
  }
 ],
 "metadata": {
  "kernelspec": {
   "display_name": "rl_env",
   "language": "python",
   "name": "python3"
  },
  "language_info": {
   "codemirror_mode": {
    "name": "ipython",
    "version": 3
   },
   "file_extension": ".py",
   "mimetype": "text/x-python",
   "name": "python",
   "nbconvert_exporter": "python",
   "pygments_lexer": "ipython3",
   "version": "3.10.12"
  }
 },
 "nbformat": 4,
 "nbformat_minor": 2
}
